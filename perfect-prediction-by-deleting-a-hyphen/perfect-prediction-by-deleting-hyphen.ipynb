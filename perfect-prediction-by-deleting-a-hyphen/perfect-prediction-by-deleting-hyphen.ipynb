{
 "cells": [
  {
   "cell_type": "markdown",
   "metadata": {},
   "source": [
    "# How I Got a Perfect Prediction by Deleting a Hyphen\n",
    "## Watch out when using `shift()`!\n",
    "\n",
    "More like this over at [datasciencehorrorstories.com](http://datasciencehorrorstories.com)"
   ]
  },
  {
   "cell_type": "code",
   "execution_count": 1,
   "metadata": {
    "collapsed": true
   },
   "outputs": [],
   "source": [
    "import pandas as pd\n",
    "import numpy as np"
   ]
  },
  {
   "cell_type": "markdown",
   "metadata": {},
   "source": [
    "Create a dataset with numbers and a binary outcome"
   ]
  },
  {
   "cell_type": "code",
   "execution_count": 2,
   "metadata": {
    "collapsed": false
   },
   "outputs": [
    {
     "data": {
      "text/html": [
       "<div>\n",
       "<table border=\"1\" class=\"dataframe\">\n",
       "  <thead>\n",
       "    <tr style=\"text-align: right;\">\n",
       "      <th></th>\n",
       "      <th>time_column</th>\n",
       "      <th>my_value</th>\n",
       "      <th>my_previous_value</th>\n",
       "      <th>my_next_value</th>\n",
       "      <th>outcome</th>\n",
       "    </tr>\n",
       "  </thead>\n",
       "  <tbody>\n",
       "    <tr>\n",
       "      <th>1</th>\n",
       "      <td>2016-10-24 01:00:00</td>\n",
       "      <td>6</td>\n",
       "      <td>6.0</td>\n",
       "      <td>1.0</td>\n",
       "      <td>False</td>\n",
       "    </tr>\n",
       "    <tr>\n",
       "      <th>2</th>\n",
       "      <td>2016-10-24 02:00:00</td>\n",
       "      <td>1</td>\n",
       "      <td>6.0</td>\n",
       "      <td>2.0</td>\n",
       "      <td>False</td>\n",
       "    </tr>\n",
       "    <tr>\n",
       "      <th>3</th>\n",
       "      <td>2016-10-24 03:00:00</td>\n",
       "      <td>2</td>\n",
       "      <td>1.0</td>\n",
       "      <td>3.0</td>\n",
       "      <td>False</td>\n",
       "    </tr>\n",
       "    <tr>\n",
       "      <th>4</th>\n",
       "      <td>2016-10-24 04:00:00</td>\n",
       "      <td>3</td>\n",
       "      <td>2.0</td>\n",
       "      <td>8.0</td>\n",
       "      <td>True</td>\n",
       "    </tr>\n",
       "    <tr>\n",
       "      <th>5</th>\n",
       "      <td>2016-10-24 05:00:00</td>\n",
       "      <td>8</td>\n",
       "      <td>3.0</td>\n",
       "      <td>5.0</td>\n",
       "      <td>False</td>\n",
       "    </tr>\n",
       "  </tbody>\n",
       "</table>\n",
       "</div>"
      ],
      "text/plain": [
       "          time_column  my_value  my_previous_value  my_next_value outcome\n",
       "1 2016-10-24 01:00:00         6                6.0            1.0   False\n",
       "2 2016-10-24 02:00:00         1                6.0            2.0   False\n",
       "3 2016-10-24 03:00:00         2                1.0            3.0   False\n",
       "4 2016-10-24 04:00:00         3                2.0            8.0    True\n",
       "5 2016-10-24 05:00:00         8                3.0            5.0   False"
      ]
     },
     "execution_count": 2,
     "metadata": {},
     "output_type": "execute_result"
    }
   ],
   "source": [
    "np.random.seed(142) # for reproducibility\n",
    "\n",
    "df = pd.DataFrame()\n",
    "df[\"time_column\"] = pd.Series(pd.date_range(\"20161024 00:00:00\", \"20161031 00:00:00\" ,freq=\"H\"))\n",
    "df[\"my_value\"] = pd.Series(np.random.randint(1, 10, size=len(df)))\n",
    "\n",
    "# I want to preserve the original data for use later, so I'll take a copy\n",
    "df2 = df.copy()\n",
    "\n",
    "df2[\"my_previous_value\"] = df2.my_value.shift(1)\n",
    "df2[\"my_next_value\"] = df2.my_value.shift(-1)\n",
    "\n",
    "# drop NaN values at the front and back, that were created by shifting\n",
    "df2 = df2.dropna()\n",
    "\n",
    "# create outcome column\n",
    "df2[\"outcome\"] = df2.my_next_value > 5\n",
    "\n",
    "df2.head()"
   ]
  },
  {
   "cell_type": "markdown",
   "metadata": {},
   "source": [
    "Train a binary classifier on this random data"
   ]
  },
  {
   "cell_type": "code",
   "execution_count": 3,
   "metadata": {
    "collapsed": false
   },
   "outputs": [
    {
     "name": "stdout",
     "output_type": "stream",
     "text": [
      "Accuracy: 0.57, Precision: 0.50\n"
     ]
    }
   ],
   "source": [
    "from sklearn.linear_model import LogisticRegression\n",
    "from sklearn.metrics import precision_score, accuracy_score\n",
    "\n",
    "# extract features and outcome\n",
    "X = df2[[\"my_value\", \"my_previous_value\"]]\n",
    "y = df2.outcome\n",
    "\n",
    "# train-test split\n",
    "# use 70-30, so for 167 rows use 116-51\n",
    "X_train = X.iloc[:116]\n",
    "X_test = X.iloc[116:]\n",
    "y_train = y.iloc[:116]\n",
    "y_test = y.iloc[116:]\n",
    "\n",
    "model = LogisticRegression()\n",
    "\n",
    "model.fit(X_train, y_train)\n",
    "\n",
    "y_pred = model.predict(X_test)\n",
    "accuracy = accuracy_score(y_test, y_pred)\n",
    "precision = precision_score(y_test, y_pred)\n",
    "print(\"Accuracy: {0:.2f}, Precision: {1:.2f}\".format(accuracy, precision))"
   ]
  },
  {
   "cell_type": "markdown",
   "metadata": {},
   "source": [
    "This should be pretty terrible as the numbers are random!\n",
    "\n",
    "But what happens if we forget the hyphen?"
   ]
  },
  {
   "cell_type": "code",
   "execution_count": null,
   "metadata": {
    "collapsed": true
   },
   "outputs": [],
   "source": [
    "df3 = df.copy()\n",
    "\n",
    "df3[\"my_previous_value\"] = df3.my_value.shift(1)\n",
    "df3[\"my_next_value\"] = df3.my_value.shift(1)"
   ]
  },
  {
   "cell_type": "markdown",
   "metadata": {},
   "source": [
    "At this point now, the \"previous\" and \"next\" columns are identical!\n",
    "\n",
    "So when we create our binary outcome, we're accidentally doing it using one of our features!"
   ]
  },
  {
   "cell_type": "code",
   "execution_count": 4,
   "metadata": {
    "collapsed": false
   },
   "outputs": [
    {
     "name": "stdout",
     "output_type": "stream",
     "text": [
      "Accuracy: 0.94, Precision: 0.91\n"
     ]
    }
   ],
   "source": [
    "# drop NaN values at the front and back, that were created by shifting\n",
    "df3 = df3.dropna()\n",
    "\n",
    "# create outcome column\n",
    "df3[\"outcome\"] = df3.my_next_value > 5\n",
    "\n",
    "# extract features and outcome\n",
    "X = df3[[\"my_value\", \"my_previous_value\"]]\n",
    "y = df3.outcome\n",
    "\n",
    "# train-test split\n",
    "# use 70-30, so for 167 rows use 116-51\n",
    "X_train = X.iloc[:116]\n",
    "X_test = X.iloc[116:]\n",
    "y_train = y.iloc[:116]\n",
    "y_test = y.iloc[116:]\n",
    "\n",
    "model = LogisticRegression()\n",
    "\n",
    "model.fit(X_train, y_train)\n",
    "\n",
    "y_pred = model.predict(X_test)\n",
    "accuracy = accuracy_score(y_test, y_pred)\n",
    "precision = precision_score(y_test, y_pred)\n",
    "print(\"Accuracy: {0:.2f}, Precision: {1:.2f}\".format(accuracy, precision))"
   ]
  },
  {
   "cell_type": "markdown",
   "metadata": {},
   "source": [
    "Well, that's one way to improve our accuracy..."
   ]
  }
 ],
 "metadata": {
  "anaconda-cloud": {},
  "kernelspec": {
   "display_name": "Python [default]",
   "language": "python",
   "name": "python3"
  },
  "language_info": {
   "codemirror_mode": {
    "name": "ipython",
    "version": 3
   },
   "file_extension": ".py",
   "mimetype": "text/x-python",
   "name": "python",
   "nbconvert_exporter": "python",
   "pygments_lexer": "ipython3",
   "version": "3.4.5"
  }
 },
 "nbformat": 4,
 "nbformat_minor": 1
}
