{
 "cells": [
  {
   "cell_type": "markdown",
   "metadata": {},
   "source": [
    "# The Tale of the Missing Groups\n",
    "## Where are you hiding my NaNs, `pandas`?\n",
    "\n",
    "More like this over at [datasciencehorrorstories.com](http://datasciencehorrorstories.com)"
   ]
  },
  {
   "cell_type": "code",
   "execution_count": 2,
   "metadata": {
    "collapsed": true
   },
   "outputs": [],
   "source": [
    "import pandas as pd\n",
    "import numpy as np"
   ]
  },
  {
   "cell_type": "markdown",
   "metadata": {},
   "source": [
    "Let's assume our data is a web server log of people viewing pages on our Pet Salon website.\n",
    "\n",
    "Our simplified dataset will contain an IP address and a page url, meaning a person from that IP address has viewed that page."
   ]
  },
  {
   "cell_type": "code",
   "execution_count": 9,
   "metadata": {
    "collapsed": false
   },
   "outputs": [
    {
     "data": {
      "text/html": [
       "<div>\n",
       "<table border=\"1\" class=\"dataframe\">\n",
       "  <thead>\n",
       "    <tr style=\"text-align: right;\">\n",
       "      <th></th>\n",
       "      <th>ip</th>\n",
       "      <th>page</th>\n",
       "    </tr>\n",
       "  </thead>\n",
       "  <tbody>\n",
       "    <tr>\n",
       "      <th>0</th>\n",
       "      <td>0.0.0.1</td>\n",
       "      <td>/home</td>\n",
       "    </tr>\n",
       "    <tr>\n",
       "      <th>1</th>\n",
       "      <td>0.0.0.1</td>\n",
       "      <td>/home</td>\n",
       "    </tr>\n",
       "    <tr>\n",
       "      <th>2</th>\n",
       "      <td>0.0.0.1</td>\n",
       "      <td>/cat-haircuts</td>\n",
       "    </tr>\n",
       "    <tr>\n",
       "      <th>3</th>\n",
       "      <td>0.0.0.2</td>\n",
       "      <td>/home</td>\n",
       "    </tr>\n",
       "    <tr>\n",
       "      <th>4</th>\n",
       "      <td>0.0.0.2</td>\n",
       "      <td>/login</td>\n",
       "    </tr>\n",
       "    <tr>\n",
       "      <th>5</th>\n",
       "      <td>NaN</td>\n",
       "      <td>/dog-shampoos</td>\n",
       "    </tr>\n",
       "    <tr>\n",
       "      <th>6</th>\n",
       "      <td>0.0.0.2</td>\n",
       "      <td>/login</td>\n",
       "    </tr>\n",
       "    <tr>\n",
       "      <th>7</th>\n",
       "      <td>0.0.0.3</td>\n",
       "      <td>/profile</td>\n",
       "    </tr>\n",
       "  </tbody>\n",
       "</table>\n",
       "</div>"
      ],
      "text/plain": [
       "        ip           page\n",
       "0  0.0.0.1          /home\n",
       "1  0.0.0.1          /home\n",
       "2  0.0.0.1  /cat-haircuts\n",
       "3  0.0.0.2          /home\n",
       "4  0.0.0.2         /login\n",
       "5      NaN  /dog-shampoos\n",
       "6  0.0.0.2         /login\n",
       "7  0.0.0.3       /profile"
      ]
     },
     "execution_count": 9,
     "metadata": {},
     "output_type": "execute_result"
    }
   ],
   "source": [
    "df = pd.DataFrame({\n",
    "        \"ip\": [\"0.0.0.1\", \"0.0.0.1\", \"0.0.0.1\", \"0.0.0.2\", \"0.0.0.2\", np.NaN, \"0.0.0.2\", \"0.0.0.3\"],\n",
    "        \"page\": [\"/home\", \"/home\", \"/cat-haircuts\", \"/home\", \"/login\", \"/dog-shampoos\", \"/login\", \"/profile\"]\n",
    "    })\n",
    "df"
   ]
  },
  {
   "cell_type": "markdown",
   "metadata": {},
   "source": [
    "We want to count how many pages a typical user will view before leaving our site.\n",
    "\n",
    "However, for some reason sometimes we can't record a user's IP address, so ***we also want to know how many pages we couldn't assign to a user***.\n",
    "\n",
    "You would think we could just group by the IP address column and do a count, right?"
   ]
  },
  {
   "cell_type": "code",
   "execution_count": 11,
   "metadata": {
    "collapsed": false
   },
   "outputs": [
    {
     "data": {
      "text/plain": [
       "ip\n",
       "0.0.0.1    3\n",
       "0.0.0.2    3\n",
       "0.0.0.3    1\n",
       "Name: page, dtype: int64"
      ]
     },
     "execution_count": 11,
     "metadata": {},
     "output_type": "execute_result"
    }
   ],
   "source": [
    "df.groupby(\"ip\")[\"page\"].count()"
   ]
  },
  {
   "cell_type": "markdown",
   "metadata": {},
   "source": [
    "Hey, our missing page is... well, missing!\n",
    "\n",
    "By default, `pandas` will exclude NaN values when grouping.\n",
    "\n",
    "The workaround is to fill the missing value with a \"pseudo\" value, and then do the grouping."
   ]
  },
  {
   "cell_type": "code",
   "execution_count": 13,
   "metadata": {
    "collapsed": false
   },
   "outputs": [
    {
     "data": {
      "text/plain": [
       "ip\n",
       "0.0.0.1         3\n",
       "0.0.0.2         3\n",
       "0.0.0.3         1\n",
       "unknown user    1\n",
       "Name: page, dtype: int64"
      ]
     },
     "execution_count": 13,
     "metadata": {},
     "output_type": "execute_result"
    }
   ],
   "source": [
    "df[\"ip\"] = df[\"ip\"].fillna(\"unknown user\")\n",
    "df.groupby(\"ip\")[\"page\"].count()"
   ]
  },
  {
   "cell_type": "markdown",
   "metadata": {},
   "source": [
    "Now we have what we need!"
   ]
  }
 ],
 "metadata": {
  "anaconda-cloud": {},
  "kernelspec": {
   "display_name": "Python [default]",
   "language": "python",
   "name": "python3"
  },
  "language_info": {
   "codemirror_mode": {
    "name": "ipython",
    "version": 3
   },
   "file_extension": ".py",
   "mimetype": "text/x-python",
   "name": "python",
   "nbconvert_exporter": "python",
   "pygments_lexer": "ipython3",
   "version": "3.4.5"
  }
 },
 "nbformat": 4,
 "nbformat_minor": 1
}
